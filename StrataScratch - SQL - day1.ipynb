{
 "cells": [
  {
   "cell_type": "markdown",
   "id": "3968aa2b",
   "metadata": {},
   "source": [
    "## Q1) Workers With The Highest Salaries\n",
    "Find the titles of workers that earn the highest salaries. Output the highest-paid titles."
   ]
  },
  {
   "cell_type": "raw",
   "id": "1290a7d8",
   "metadata": {},
   "source": [
    "SELECT worker_title\n",
    "FROM title\n",
    "JOIN worker\n",
    "ON worker.worker_id = title.worker_ref_id\n",
    "WHERE salary = ( SELECT MAX(salary) FROM worker)"
   ]
  },
  {
   "cell_type": "markdown",
   "id": "c3c047aa",
   "metadata": {},
   "source": [
    "## Q2) Users By Avg Session time\n",
    "Calculate each user's average session time. A session is defined as the time difference between a page_load and page_exit. For simplicity, assume an user has only 1 session per day and if there are multiple of the same events in that day, consider only the latest page_load and earliest page_exit. Output the user_id and their average session time."
   ]
  },
  {
   "cell_type": "code",
   "execution_count": null,
   "id": "aa0c63ea",
   "metadata": {},
   "outputs": [],
   "source": []
  },
  {
   "cell_type": "markdown",
   "id": "35360b20",
   "metadata": {},
   "source": [
    "## Q3) Activity Rank\n",
    "Find the email activity rank for each user. Email activity rank is defined by the total number of emails sent. The user with the highest number of emails sent will have a rank of 1, and so on. Output the user, total emails, and their activity rank. Order records by the total emails in descending order. Sort users with the same number of emails in alphabetical order.\n",
    "In your rankings, return a unique value (i.e., a unique percentile) even if multiple users have the same number of emails."
   ]
  },
  {
   "cell_type": "raw",
   "id": "4476d2a9",
   "metadata": {},
   "source": [
    "SELECT from_user , COUNT(from_user) AS total_emails , \n",
    "row_number() OVER(ORDER BY COUNT(from_user) DESC ) AS rank_user\n",
    "FROM google_gmail_emails\n",
    "GROUP BY from_user\n",
    "ORDER BY total_emails DESC , from_user ASC "
   ]
  },
  {
   "cell_type": "markdown",
   "id": "ea9b04af",
   "metadata": {},
   "source": [
    "## Q4) Salaries Differences\n",
    "Write a query that calculates the difference between the highest salaries found in the marketing and engineering departments. Output just the difference in salaries."
   ]
  },
  {
   "cell_type": "raw",
   "id": "c85dcdb6",
   "metadata": {},
   "source": [
    "JOIN db_dept AS d\n",
    "ON e.department_id = d.id\n",
    "WHERE department = 'engineering' ) , \n",
    "mark AS \n",
    "( SELECT MAX(salary) AS M FROM \n",
    "db_employee AS e\n",
    "JOIN db_dept AS d\n",
    "ON e.department_id = d.id\n",
    "WHERE department = 'marketing' )\n",
    "\n",
    "SELECT M - E FROM eng , mark"
   ]
  },
  {
   "cell_type": "markdown",
   "id": "5dc6c405",
   "metadata": {},
   "source": [
    " ## Q5 Finding Updated Records\n",
    "We have a table with employees and their salaries, however, some of the records are old and contain outdated salary information. Find the current salary of each employee assuming that salaries increase each year. Output their id, first name, last name, department ID, and current salary. Order your list by employee ID in ascending order."
   ]
  },
  {
   "cell_type": "raw",
   "id": "5d8e7b84",
   "metadata": {},
   "source": [
    "WITH CTE AS (select * ,\n",
    "row_number() OVER(PARTITION BY id ORDER BY salary DESC) AS salary_rank\n",
    "from ms_employee_salary) \n",
    "SELECT id ,\tfirst_name , last_name , department_id, salary\n",
    "FROM CTE \n",
    "WHERE salary_rank = 1"
   ]
  },
  {
   "cell_type": "markdown",
   "id": "0c04dc73",
   "metadata": {},
   "source": [
    "## Q6 Bikes Last Used\n",
    "Find the last time each bike was in use. Output both the bike number and the date-timestamp of the bike's last use (i.e., the date-time the bike was returned). Order the results by bikes that were most recently used."
   ]
  },
  {
   "cell_type": "raw",
   "id": "72a719b3",
   "metadata": {},
   "source": [
    "select bike_number , MAX(end_time) AS last_time \n",
    "FROM dc_bikeshare_q1_2012\n",
    "GROUP BY bike_number\n",
    "ORDER BY  bike_number , MAX(end_time)"
   ]
  },
  {
   "cell_type": "markdown",
   "id": "1785064e",
   "metadata": {},
   "source": [
    "## Q7 Count the number of movies that Abigail Breslin nominated for oscar\n",
    "Count the number of movies that Abigail Breslin was nominated for an oscar."
   ]
  },
  {
   "cell_type": "raw",
   "id": "ed5caf9a",
   "metadata": {},
   "source": [
    "select COUNT(movie) AS total_movies from oscar_nominees\n",
    "WHERE nominee = 'Abigail Breslin'"
   ]
  },
  {
   "cell_type": "markdown",
   "id": "a2c13506",
   "metadata": {},
   "source": [
    "## Q8 Popularity of Hack\n",
    "Facebook has developed a new programing language called Hack.To measure the popularity of Hack they ran a survey with their employees. The survey included data on previous programing familiarity as well as the number of years of experience, age, gender and most importantly satisfaction with Hack. Due to an error location data was not collected, but your supervisor demands a report showing average popularity of Hack by office location. Luckily the user IDs of employees completing the surveys were stored.\n",
    "Based on the above, find the average popularity of the Hack per office location.\n",
    "Output the location along with the average popularity."
   ]
  },
  {
   "cell_type": "raw",
   "id": "8f6ea4a4",
   "metadata": {},
   "source": [
    "select location , AVG(popularity)\n",
    "FROM facebook_employees AS e\n",
    "JOIN facebook_hack_survey AS s\n",
    "ON e.id = s.employee_id\n",
    "GROUP BY location"
   ]
  },
  {
   "cell_type": "markdown",
   "id": "02179543",
   "metadata": {},
   "source": [
    "## Q9 Top 5 States With 5 Star Businesses\n",
    "Find the top 5 states with the most 5 star businesses. Output the state name along with the number of 5-star businesses and order records by the number of 5-star businesses in descending order. In case there are two states with the same result, sort them in alphabetical order."
   ]
  },
  {
   "cell_type": "raw",
   "id": "17d53d0e",
   "metadata": {},
   "source": [
    "select state , COUNT(stars) AS total_5stars\n",
    "from yelp_business\n",
    "WHERE stars = 5\n",
    "GROUP BY state\n",
    "ORDER BY 2 DESC , 1\n",
    "LIMIT 5 \n"
   ]
  },
  {
   "cell_type": "markdown",
   "id": "1d938c4d",
   "metadata": {},
   "source": [
    "## Q10 Lyft Driver Wages\n",
    "Find all Lyft drivers who earn either equal to or less than 30k USD or equal to or more than 70k USD.\n",
    "Output all details related to retrieved records."
   ]
  },
  {
   "cell_type": "raw",
   "id": "3601c306",
   "metadata": {},
   "source": [
    "select * from lyft_drivers\n",
    "WHERE yearly_salary <= 30000 OR yearly_salary >=  70000"
   ]
  },
  {
   "cell_type": "markdown",
   "id": "1fa0d72f",
   "metadata": {},
   "source": [
    "## Q11 Find artists that have been on Spotify the most number of times\n",
    "Find artists that have been on Spotify the most number of times.\n",
    "Output the artist name along with the corresponding number of occurrences.\n",
    "Order records by the number of occurrences in descending order."
   ]
  },
  {
   "cell_type": "raw",
   "id": "2061d5bb",
   "metadata": {},
   "source": [
    "select artist , COUNT(*) AS occurrences \n",
    "from spotify_worldwide_daily_song_ranking\n",
    "GROUP BY 1 \n",
    "ORDER BY occurrences DESC \n"
   ]
  },
  {
   "cell_type": "markdown",
   "id": "ed55031f",
   "metadata": {},
   "source": [
    "## Q12 Find the base pay for Police Captains\n",
    "Find the base pay for Police Captains.\n",
    "Output the employee name along with the corresponding base pay."
   ]
  },
  {
   "cell_type": "raw",
   "id": "b337e8f2",
   "metadata": {},
   "source": [
    "Select employeename , basepay\n",
    "from sf_public_salaries\n",
    "WHERE jobtitle = 'CAPTAIN III (POLICE DEPARTMENT)'"
   ]
  },
  {
   "cell_type": "markdown",
   "id": "e10bd53d",
   "metadata": {},
   "source": [
    "## Q13 Find libraries who haven't provided the email address in 2016 but their notice preference definition is set to email\n",
    "Find libraries who haven't provided the email address in 2016 but their notice preference definition is set to email.\n",
    "Output the library code."
   ]
  },
  {
   "cell_type": "raw",
   "id": "08e9c42f",
   "metadata": {},
   "source": [
    "select home_library_code\n",
    "from library_usage\n",
    "WHERE provided_email_address = False \n",
    "AND circulation_active_year = 2016\n",
    "AND notice_preference_definition = 'email'"
   ]
  },
  {
   "cell_type": "markdown",
   "id": "c23e7f29",
   "metadata": {},
   "source": [
    " ## Q14 Average Salaries\n",
    "Compare each employee's salary with the average salary of the corresponding department.\n",
    "Output the department, first name, and salary of employees along with the average salary of that department."
   ]
  },
  {
   "cell_type": "raw",
   "id": "951b190d",
   "metadata": {},
   "source": [
    "select department , first_name , last_name , salary , \n",
    "AVG(salary) OVER(PARTITION BY department)\n",
    "from employee;"
   ]
  },
  {
   "cell_type": "markdown",
   "id": "52b9ea26",
   "metadata": {},
   "source": [
    "## Q15 Customer Details\n",
    "Find the details of each customer regardless of whether the customer made an order. Output the customer's first name, last name, and the city along with the order details.\n",
    "Your output should be listing the customer's orders not necessarily listing the customers. This means that you may have duplicate rows in your results due to a customer ordering several of the same items. Sort records based on the customer's first name and the order details in ascending order."
   ]
  },
  {
   "cell_type": "markdown",
   "id": "9e06c1cf",
   "metadata": {},
   "source": [
    "## Q16 Churro Activity Date\n",
    "Find the activity date and the pe_description of facilities with the name 'STREET CHURROS' and with a score of less than 95 points."
   ]
  },
  {
   "cell_type": "raw",
   "id": "82b0fde7",
   "metadata": {},
   "source": [
    "SELECT activity_date , pe_description\n",
    "from los_angeles_restaurant_health_inspections\n",
    "WHERE score < 95 AND facility_name = 'STREET CHURROS'"
   ]
  },
  {
   "cell_type": "markdown",
   "id": "5d9ca3f7",
   "metadata": {},
   "source": [
    "## Q17 Most Profitable Companies\n",
    "Find the 3 most profitable companies in the entire world.\n",
    "Output the result along with the corresponding company name.\n",
    "Sort the result based on profits in descending order."
   ]
  },
  {
   "cell_type": "raw",
   "id": "30e42f52",
   "metadata": {},
   "source": [
    "select company , profits from forbes_global_2010_2014\n",
    "ORDER BY profits DESC \n",
    "LIMIT 3"
   ]
  },
  {
   "cell_type": "markdown",
   "id": "8310a211",
   "metadata": {},
   "source": [
    "## Q18 Find the most profitable company in the financial sector of the entire world along with its continent\n",
    "Find the most profitable company from the financial sector. Output the result along with the continent."
   ]
  },
  {
   "cell_type": "raw",
   "id": "1e1a5a9e",
   "metadata": {},
   "source": [
    "select company , continent\n",
    "FROM forbes_global_2010_2014\n",
    "WHERE sector = 'Financials'\n",
    "ORDER BY profits DESC \n",
    "LIMIT 1"
   ]
  },
  {
   "cell_type": "markdown",
   "id": "8f9d0b43",
   "metadata": {},
   "source": [
    "## Q19 Number Of Bathrooms And Bedrooms\n",
    "Find the average number of bathrooms and bedrooms for each city’s property types. Output the result along with the city name and the property type."
   ]
  },
  {
   "cell_type": "raw",
   "id": "f9e0e858",
   "metadata": {},
   "source": [
    "select property_type , city , AVG(bathrooms) , AVG(bedrooms) from airbnb_search_details\n",
    "GROUP BY property_type, city"
   ]
  },
  {
   "cell_type": "code",
   "execution_count": null,
   "id": "b652c5bf",
   "metadata": {},
   "outputs": [],
   "source": []
  }
 ],
 "metadata": {
  "kernelspec": {
   "display_name": "Python 3",
   "language": "python",
   "name": "python3"
  },
  "language_info": {
   "codemirror_mode": {
    "name": "ipython",
    "version": 3
   },
   "file_extension": ".py",
   "mimetype": "text/x-python",
   "name": "python",
   "nbconvert_exporter": "python",
   "pygments_lexer": "ipython3",
   "version": "3.8.8"
  }
 },
 "nbformat": 4,
 "nbformat_minor": 5
}
